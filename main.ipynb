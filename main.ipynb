{
  "nbformat": 4,
  "nbformat_minor": 0,
  "metadata": {
    "colab": {
      "provenance": [],
      "authorship_tag": "ABX9TyNRibzjJNtWyD+czOweC33g",
      "include_colab_link": true
    },
    "kernelspec": {
      "name": "python3",
      "display_name": "Python 3"
    },
    "language_info": {
      "name": "python"
    }
  },
  "cells": [
    {
      "cell_type": "markdown",
      "metadata": {
        "id": "view-in-github",
        "colab_type": "text"
      },
      "source": [
        "<a href=\"https://colab.research.google.com/github/Pranish7D/Disease-Prediction-Analysis/blob/main/main.ipynb\" target=\"_parent\"><img src=\"https://colab.research.google.com/assets/colab-badge.svg\" alt=\"Open In Colab\"/></a>"
      ]
    },
    {
      "cell_type": "code",
      "execution_count": 5,
      "metadata": {
        "colab": {
          "base_uri": "https://localhost:8080/"
        },
        "id": "ji8Qr9s5S8Ez",
        "outputId": "e22bd070-39fa-4c8a-b986-1adaa3d751e7"
      },
      "outputs": [
        {
          "output_type": "stream",
          "name": "stdout",
          "text": [
            "    Glucose  Cholesterol  Hemoglobin  Platelets  White Blood Cells  \\\n",
            "0  0.739597     0.650198    0.713631   0.868491           0.687433   \n",
            "1  0.121786     0.023058    0.944893   0.905372           0.507711   \n",
            "2  0.452539     0.116135    0.544560   0.400640           0.294538   \n",
            "3  0.136609     0.015605    0.419957   0.191487           0.081168   \n",
            "4  0.176737     0.752220    0.971779   0.785286           0.443880   \n",
            "\n",
            "   Red Blood Cells  Hematocrit  Mean Corpuscular Volume  \\\n",
            "0         0.529895    0.290006                 0.631045   \n",
            "1         0.403033    0.164216                 0.307553   \n",
            "2         0.382021    0.625267                 0.295122   \n",
            "3         0.166214    0.073293                 0.668719   \n",
            "4         0.439851    0.894991                 0.442159   \n",
            "\n",
            "   Mean Corpuscular Hemoglobin  Mean Corpuscular Hemoglobin Concentration  \\\n",
            "0                     0.001328                                   0.795829   \n",
            "1                     0.207938                                   0.505562   \n",
            "2                     0.868369                                   0.026808   \n",
            "3                     0.125447                                   0.501051   \n",
            "4                     0.257288                                   0.805987   \n",
            "\n",
            "   ...     HbA1c  LDL Cholesterol  HDL Cholesterol       ALT       AST  \\\n",
            "0  ...  0.502665         0.215560         0.512941  0.064187  0.610827   \n",
            "1  ...  0.856810         0.652465         0.106961  0.942549  0.344261   \n",
            "2  ...  0.466795         0.387332         0.421763  0.007186  0.506918   \n",
            "3  ...  0.016256         0.040137         0.826721  0.265415  0.594148   \n",
            "4  ...  0.429431         0.146294         0.221574  0.015280  0.567115   \n",
            "\n",
            "   Heart Rate  Creatinine  Troponin  C-reactive Protein   Disease  \n",
            "0    0.939485    0.095512  0.465957            0.769230   Healthy  \n",
            "1    0.666368    0.659060  0.816982            0.401166  Diabetes  \n",
            "2    0.431704    0.417295  0.799074            0.779208  Thalasse  \n",
            "3    0.225756    0.490349  0.637061            0.354094    Anemia  \n",
            "4    0.841412    0.153350  0.794008            0.094970  Thalasse  \n",
            "\n",
            "[5 rows x 25 columns]\n"
          ]
        }
      ],
      "source": [
        "import pandas as pd\n",
        "\n",
        "\n",
        "data1 = pd.read_csv('data1.csv')\n",
        "data2 = pd.read_csv('data2.csv')\n",
        "fdata = pd.concat([data1, data2], axis=0)\n",
        "\n",
        "print(fdata.head())"
      ]
    },
    {
      "cell_type": "code",
      "source": [
        "import pandas as pd\n",
        "from sklearn.preprocessing import LabelEncoder\n",
        "\n",
        "data1 = pd.read_csv('data1.csv')\n",
        "data2 = pd.read_csv('data2.csv')\n",
        "\n",
        "# Concatenate data1 and data2 along rows (vertically)\n",
        "fdata = pd.concat([data1, data2], axis=0)\n",
        "\n",
        "# Assuming 'target_column' is the name of your target column\n",
        "target_column = 'Disease'\n",
        "\n",
        "# Initialize LabelEncoder\n",
        "label_encoder = LabelEncoder()\n",
        "\n",
        "# Apply label encoding to the target column\n",
        "fdata[target_column] = label_encoder.fit_transform(fdata[target_column])\n",
        "\n",
        "# Now the target column in 'fdata' is encoded with numerical labels\n",
        "print(fdata.head())  # Display the first few rows of the concatenated dataset with the encoded target column"
      ],
      "metadata": {
        "colab": {
          "base_uri": "https://localhost:8080/"
        },
        "id": "qff21IHlTib_",
        "outputId": "0fa2d4c7-381f-4af6-8164-60ab4e3bd971"
      },
      "execution_count": 6,
      "outputs": [
        {
          "output_type": "stream",
          "name": "stdout",
          "text": [
            "    Glucose  Cholesterol  Hemoglobin  Platelets  White Blood Cells  \\\n",
            "0  0.739597     0.650198    0.713631   0.868491           0.687433   \n",
            "1  0.121786     0.023058    0.944893   0.905372           0.507711   \n",
            "2  0.452539     0.116135    0.544560   0.400640           0.294538   \n",
            "3  0.136609     0.015605    0.419957   0.191487           0.081168   \n",
            "4  0.176737     0.752220    0.971779   0.785286           0.443880   \n",
            "\n",
            "   Red Blood Cells  Hematocrit  Mean Corpuscular Volume  \\\n",
            "0         0.529895    0.290006                 0.631045   \n",
            "1         0.403033    0.164216                 0.307553   \n",
            "2         0.382021    0.625267                 0.295122   \n",
            "3         0.166214    0.073293                 0.668719   \n",
            "4         0.439851    0.894991                 0.442159   \n",
            "\n",
            "   Mean Corpuscular Hemoglobin  Mean Corpuscular Hemoglobin Concentration  \\\n",
            "0                     0.001328                                   0.795829   \n",
            "1                     0.207938                                   0.505562   \n",
            "2                     0.868369                                   0.026808   \n",
            "3                     0.125447                                   0.501051   \n",
            "4                     0.257288                                   0.805987   \n",
            "\n",
            "   ...     HbA1c  LDL Cholesterol  HDL Cholesterol       ALT       AST  \\\n",
            "0  ...  0.502665         0.215560         0.512941  0.064187  0.610827   \n",
            "1  ...  0.856810         0.652465         0.106961  0.942549  0.344261   \n",
            "2  ...  0.466795         0.387332         0.421763  0.007186  0.506918   \n",
            "3  ...  0.016256         0.040137         0.826721  0.265415  0.594148   \n",
            "4  ...  0.429431         0.146294         0.221574  0.015280  0.567115   \n",
            "\n",
            "   Heart Rate  Creatinine  Troponin  C-reactive Protein  Disease  \n",
            "0    0.939485    0.095512  0.465957            0.769230        2  \n",
            "1    0.666368    0.659060  0.816982            0.401166        1  \n",
            "2    0.431704    0.417295  0.799074            0.779208        4  \n",
            "3    0.225756    0.490349  0.637061            0.354094        0  \n",
            "4    0.841412    0.153350  0.794008            0.094970        4  \n",
            "\n",
            "[5 rows x 25 columns]\n"
          ]
        }
      ]
    },
    {
      "cell_type": "code",
      "source": [
        "import pandas as pd\n",
        "\n",
        "statistical_features = fdata.describe()\n",
        "mean_features = fdata.mean()\n",
        "std_dev_features = fdata.std()\n",
        "min_features = fdata.min()\n",
        "max_features = fdata.max()\n",
        "e_features = pd.concat([statistical_features, mean_features, std_dev_features, min_features, max_features], axis=0)\n",
        "print(e_features)"
      ],
      "metadata": {
        "colab": {
          "base_uri": "https://localhost:8080/"
        },
        "id": "77VzdyObT8yn",
        "outputId": "d1d14e57-ee07-4eee-a50f-2dcb9c08643c"
      },
      "execution_count": 7,
      "outputs": [
        {
          "output_type": "stream",
          "name": "stdout",
          "text": [
            "                        Glucose  Cholesterol   Hemoglobin    Platelets  \\\n",
            "count               2837.000000  2837.000000  2837.000000  2837.000000   \n",
            "mean                   0.384621     0.413031     0.568941     0.508157   \n",
            "std                    0.262080     0.251023     0.278908     0.301621   \n",
            "min                    0.001827     0.003088     0.000719     0.000006   \n",
            "25%                    0.141529     0.223545     0.325035     0.202496   \n",
            "...                         ...          ...          ...          ...   \n",
            "Heart Rate                  NaN          NaN          NaN          NaN   \n",
            "Creatinine                  NaN          NaN          NaN          NaN   \n",
            "Troponin                    NaN          NaN          NaN          NaN   \n",
            "C-reactive Protein          NaN          NaN          NaN          NaN   \n",
            "Disease                     NaN          NaN          NaN          NaN   \n",
            "\n",
            "                    White Blood Cells  Red Blood Cells   Hematocrit  \\\n",
            "count                     2837.000000      2837.000000  2837.000000   \n",
            "mean                         0.510863         0.506205     0.506106   \n",
            "std                          0.279597         0.273070     0.287049   \n",
            "min                         -0.000206         0.000552     0.004556   \n",
            "25%                          0.259467         0.258357     0.288132   \n",
            "...                               ...              ...          ...   \n",
            "Heart Rate                        NaN              NaN          NaN   \n",
            "Creatinine                        NaN              NaN          NaN   \n",
            "Troponin                          NaN              NaN          NaN   \n",
            "C-reactive Protein                NaN              NaN          NaN   \n",
            "Disease                           NaN              NaN          NaN   \n",
            "\n",
            "                    Mean Corpuscular Volume  Mean Corpuscular Hemoglobin  \\\n",
            "count                           2837.000000                  2837.000000   \n",
            "mean                               0.496309                     0.488859   \n",
            "std                                0.276560                     0.310724   \n",
            "min                                0.000309                    -0.000614   \n",
            "25%                                0.287532                     0.217207   \n",
            "...                                     ...                          ...   \n",
            "Heart Rate                              NaN                          NaN   \n",
            "Creatinine                              NaN                          NaN   \n",
            "Troponin                                NaN                          NaN   \n",
            "C-reactive Protein                      NaN                          NaN   \n",
            "Disease                                 NaN                          NaN   \n",
            "\n",
            "                    Mean Corpuscular Hemoglobin Concentration  ...  \\\n",
            "count                                             2837.000000  ...   \n",
            "mean                                                 0.551795  ...   \n",
            "std                                                  0.277234  ...   \n",
            "min                                                  0.000719  ...   \n",
            "25%                                                  0.319725  ...   \n",
            "...                                                       ...  ...   \n",
            "Heart Rate                                                NaN  ...   \n",
            "Creatinine                                                NaN  ...   \n",
            "Troponin                                                  NaN  ...   \n",
            "C-reactive Protein                                        NaN  ...   \n",
            "Disease                                                   NaN  ...   \n",
            "\n",
            "                    LDL Cholesterol  HDL Cholesterol          ALT  \\\n",
            "count                   2837.000000      2837.000000  2837.000000   \n",
            "mean                       0.435470         0.536118     0.446217   \n",
            "std                        0.260077         0.274450     0.271631   \n",
            "min                        0.001036        -0.000546    -0.000312   \n",
            "25%                        0.231304         0.296264     0.214581   \n",
            "...                             ...              ...          ...   \n",
            "Heart Rate                      NaN              NaN          NaN   \n",
            "Creatinine                      NaN              NaN          NaN   \n",
            "Troponin                        NaN              NaN          NaN   \n",
            "C-reactive Protein              NaN              NaN          NaN   \n",
            "Disease                         NaN              NaN          NaN   \n",
            "\n",
            "                            AST   Heart Rate   Creatinine     Troponin  \\\n",
            "count               2837.000000  2837.000000  2837.000000  2837.000000   \n",
            "mean                   0.460282     0.567101     0.440572     0.464101   \n",
            "std                    0.253810     0.260580     0.242565     0.259814   \n",
            "min                    0.002047     0.002145     0.008831     0.005714   \n",
            "25%                    0.239659     0.335346     0.214560     0.288961   \n",
            "...                         ...          ...          ...          ...   \n",
            "Heart Rate                  NaN          NaN          NaN          NaN   \n",
            "Creatinine                  NaN          NaN          NaN          NaN   \n",
            "Troponin                    NaN          NaN          NaN          NaN   \n",
            "C-reactive Protein          NaN          NaN          NaN          NaN   \n",
            "Disease                     NaN          NaN          NaN          NaN   \n",
            "\n",
            "                    C-reactive Protein      Disease         0  \n",
            "count                      2837.000000  2837.000000       NaN  \n",
            "mean                          0.445221     1.761015       NaN  \n",
            "std                           0.254098     1.573086       NaN  \n",
            "min                          -0.000991     0.000000       NaN  \n",
            "25%                           0.199513     1.000000       NaN  \n",
            "...                                ...          ...       ...  \n",
            "Heart Rate                         NaN          NaN  0.999857  \n",
            "Creatinine                         NaN          NaN  0.999348  \n",
            "Troponin                           NaN          NaN  1.000125  \n",
            "C-reactive Protein                 NaN          NaN  0.999488  \n",
            "Disease                            NaN          NaN  5.000000  \n",
            "\n",
            "[108 rows x 26 columns]\n"
          ]
        }
      ]
    },
    {
      "cell_type": "code",
      "source": [
        "import pandas as pd\n",
        "from sklearn.model_selection import train_test_split\n",
        "from xgboost import XGBClassifier\n",
        "from sklearn.metrics import accuracy_score, precision_score, recall_score, f1_score\n",
        "\n",
        "target_column = 'Disease'\n",
        "\n",
        "y = fdata[target_column]\n",
        "X = fdata.drop(columns=[target_column])\n",
        "\n",
        "X_train, X_test, y_train, y_test = train_test_split(X, y, test_size=0.2, random_state=42)\n",
        "\n",
        "model = XGBClassifier()\n",
        "model.fit(X_train, y_train)\n",
        "\n",
        "y_pred = model.predict(X_test)\n",
        "accuracy = accuracy_score(y_test, y_pred)\n",
        "print(\"Accuracy:\", accuracy)\n",
        "\n",
        "precision = precision_score(y_test, y_pred, average='macro')\n",
        "print(\"Precision:\", precision)\n",
        "\n",
        "recall = recall_score(y_test, y_pred, average='macro')\n",
        "print(\"Recall:\", recall)\n",
        "\n",
        "f1 = f1_score(y_test, y_pred, average='macro')\n",
        "print(\"F1-score:\", f1)"
      ],
      "metadata": {
        "colab": {
          "base_uri": "https://localhost:8080/"
        },
        "id": "miaHbu5KUFNw",
        "outputId": "74c07879-53cf-46f7-b491-0062e66bc5f3"
      },
      "execution_count": 8,
      "outputs": [
        {
          "output_type": "stream",
          "name": "stdout",
          "text": [
            "Accuracy: 0.9823943661971831\n",
            "Precision: 0.9881443205264545\n",
            "Recall: 0.8701167662267381\n",
            "F1-score: 0.8915426880915228\n"
          ]
        }
      ]
    },
    {
      "cell_type": "code",
      "source": [
        "from sklearn.linear_model import LogisticRegression\n",
        "from sklearn.metrics import accuracy_score, precision_score, recall_score, f1_score\n",
        "\n",
        "model = LogisticRegression()\n",
        "model.fit(X_train, y_train)\n",
        "\n",
        "y_pred = model.predict(X_test)\n",
        "\n",
        "accuracy = accuracy_score(y_test, y_pred)\n",
        "precision = precision_score(y_test, y_pred, average='macro')\n",
        "recall = recall_score(y_test, y_pred, average='macro')\n",
        "f1 = f1_score(y_test, y_pred, average='macro')\n",
        "\n",
        "print(\"Accuracy:\", accuracy)\n",
        "print(\"Precision:\", precision)\n",
        "print(\"Recall:\", recall)\n",
        "print(\"F1-score:\", f1)"
      ],
      "metadata": {
        "colab": {
          "base_uri": "https://localhost:8080/"
        },
        "id": "Sa1VK8ATULzb",
        "outputId": "08bd566c-a326-4985-9c4f-2a0b5ada5e59"
      },
      "execution_count": 9,
      "outputs": [
        {
          "output_type": "stream",
          "name": "stdout",
          "text": [
            "Accuracy: 0.7975352112676056\n",
            "Precision: 0.6850530340067907\n",
            "Recall: 0.6816908736648397\n",
            "F1-score: 0.6819223114342012\n"
          ]
        },
        {
          "output_type": "stream",
          "name": "stderr",
          "text": [
            "/usr/local/lib/python3.10/dist-packages/sklearn/linear_model/_logistic.py:458: ConvergenceWarning: lbfgs failed to converge (status=1):\n",
            "STOP: TOTAL NO. of ITERATIONS REACHED LIMIT.\n",
            "\n",
            "Increase the number of iterations (max_iter) or scale the data as shown in:\n",
            "    https://scikit-learn.org/stable/modules/preprocessing.html\n",
            "Please also refer to the documentation for alternative solver options:\n",
            "    https://scikit-learn.org/stable/modules/linear_model.html#logistic-regression\n",
            "  n_iter_i = _check_optimize_result(\n",
            "/usr/local/lib/python3.10/dist-packages/sklearn/metrics/_classification.py:1344: UndefinedMetricWarning: Precision is ill-defined and being set to 0.0 in labels with no predicted samples. Use `zero_division` parameter to control this behavior.\n",
            "  _warn_prf(average, modifier, msg_start, len(result))\n"
          ]
        }
      ]
    },
    {
      "cell_type": "code",
      "source": [
        "from sklearn.neighbors import KNeighborsClassifier\n",
        "from sklearn.metrics import accuracy_score, precision_score, recall_score, f1_score\n",
        "\n",
        "model = KNeighborsClassifier(n_neighbors=5)\n",
        "model.fit(X_train, y_train)\n",
        "y_pred = model.predict(X_test)\n",
        "\n",
        "accuracy = accuracy_score(y_test, y_pred)\n",
        "precision = precision_score(y_test, y_pred, average='macro')\n",
        "recall = recall_score(y_test, y_pred, average='macro')\n",
        "f1 = f1_score(y_test, y_pred, average='macro')\n",
        "\n",
        "print(\"Accuracy:\", accuracy)\n",
        "print(\"Precision:\", precision)\n",
        "print(\"Recall:\", recall)\n",
        "print(\"F1-score:\", f1)"
      ],
      "metadata": {
        "colab": {
          "base_uri": "https://localhost:8080/"
        },
        "id": "Eui1sQ0pUOB7",
        "outputId": "aeed1334-5088-4371-88dd-93af63dd4152"
      },
      "execution_count": 10,
      "outputs": [
        {
          "output_type": "stream",
          "name": "stdout",
          "text": [
            "Accuracy: 0.8961267605633803\n",
            "Precision: 0.7369770598679325\n",
            "Recall: 0.7593051444980438\n",
            "F1-score: 0.7458805924122826\n"
          ]
        }
      ]
    },
    {
      "cell_type": "code",
      "source": [
        "from sklearn.ensemble import RandomForestClassifier\n",
        "from sklearn.metrics import accuracy_score, precision_score, recall_score, f1_score\n",
        "\n",
        "model = RandomForestClassifier(n_estimators=100, random_state=42)\n",
        "model.fit(X_train, y_train)\n",
        "y_pred = model.predict(X_test)\n",
        "\n",
        "accuracy = accuracy_score(y_test, y_pred)\n",
        "precision = precision_score(y_test, y_pred, average='macro')\n",
        "recall = recall_score(y_test, y_pred, average='macro')\n",
        "f1 = f1_score(y_test, y_pred, average='macro')\n",
        "\n",
        "print(\"Accuracy:\", accuracy)\n",
        "print(\"Precision:\", precision)\n",
        "print(\"Recall:\", recall)\n",
        "print(\"F1-score:\", f1)"
      ],
      "metadata": {
        "id": "BojhzRJqUT5Y",
        "outputId": "1d781986-9ca4-4f49-80c4-739b908dbf9c",
        "colab": {
          "base_uri": "https://localhost:8080/"
        }
      },
      "execution_count": 11,
      "outputs": [
        {
          "output_type": "stream",
          "name": "stdout",
          "text": [
            "Accuracy: 0.9577464788732394\n",
            "Precision: 0.9789473684210526\n",
            "Recall: 0.8096899849559424\n",
            "F1-score: 0.8354019749150835\n"
          ]
        }
      ]
    },
    {
      "cell_type": "code",
      "source": [
        "from sklearn.naive_bayes import GaussianNB\n",
        "from sklearn.metrics import accuracy_score, precision_score, recall_score, f1_score\n",
        "\n",
        "# Initialize the Naive Bayes classifier\n",
        "model = GaussianNB()\n",
        "\n",
        "# Assuming you have already loaded and preprocessed your data\n",
        "X_train, X_test, y_train, y_test = train_test_split(X, y, test_size=0.2, random_state=42)\n",
        "\n",
        "# Now you can proceed to train the classifier\n",
        "model.fit(X_train, y_train)\n",
        "\n",
        "\n",
        "# Make predictions\n",
        "y_pred = model.predict(X_test)\n",
        "\n",
        "# Evaluate performance\n",
        "accuracy = accuracy_score(y_test, y_pred)\n",
        "precision = precision_score(y_test, y_pred, average='macro')\n",
        "recall = recall_score(y_test, y_pred, average='macro')\n",
        "f1 = f1_score(y_test, y_pred, average='macro')\n",
        "\n",
        "# Print evaluation metrics\n",
        "print(\"Accuracy:\", accuracy)\n",
        "print(\"Precision:\", precision)\n",
        "print(\"Recall:\", recall)\n",
        "print(\"F1-score:\", f1)\n"
      ],
      "metadata": {
        "colab": {
          "base_uri": "https://localhost:8080/"
        },
        "id": "1z4ZI-pz5a1D",
        "outputId": "5a425683-6cef-4fbf-9a27-52b993a27a56"
      },
      "execution_count": 12,
      "outputs": [
        {
          "output_type": "stream",
          "name": "stdout",
          "text": [
            "Accuracy: 0.8345070422535211\n",
            "Precision: 0.7203091844989143\n",
            "Recall: 0.7014206428300853\n",
            "F1-score: 0.7092972737211882\n"
          ]
        },
        {
          "output_type": "stream",
          "name": "stderr",
          "text": [
            "/usr/local/lib/python3.10/dist-packages/sklearn/metrics/_classification.py:1344: UndefinedMetricWarning: Precision is ill-defined and being set to 0.0 in labels with no predicted samples. Use `zero_division` parameter to control this behavior.\n",
            "  _warn_prf(average, modifier, msg_start, len(result))\n"
          ]
        }
      ]
    }
  ]
}